{
 "cells": [
  {
   "cell_type": "code",
   "execution_count": 1,
   "id": "965a6c01",
   "metadata": {},
   "outputs": [],
   "source": [
    "from sklearn import datasets\n",
    "import pandas as pd\n",
    "import matplotlib.pyplot as plt"
   ]
  },
  {
   "cell_type": "code",
   "execution_count": 2,
   "id": "fb159ed3",
   "metadata": {},
   "outputs": [
    {
     "data": {
      "text/plain": [
       "\".. _digits_dataset:\\n\\nOptical recognition of handwritten digits dataset\\n--------------------------------------------------\\n\\n**Data Set Characteristics:**\\n\\n    :Number of Instances: 1797\\n    :Number of Attributes: 64\\n    :Attribute Information: 8x8 image of integer pixels in the range 0..16.\\n    :Missing Attribute Values: None\\n    :Creator: E. Alpaydin (alpaydin '@' boun.edu.tr)\\n    :Date: July; 1998\\n\\nThis is a copy of the test set of the UCI ML hand-written digits datasets\\nhttps://archive.ics.uci.edu/ml/datasets/Optical+Recognition+of+Handwritten+Digits\\n\\nThe data set contains images of hand-written digits: 10 classes where\\neach class refers to a digit.\\n\\nPreprocessing programs made available by NIST were used to extract\\nnormalized bitmaps of handwritten digits from a preprinted form. From a\\ntotal of 43 people, 30 contributed to the training set and different 13\\nto the test set. 32x32 bitmaps are divided into nonoverlapping blocks of\\n4x4 and the number of on pixels are counted in each block. This generates\\nan input matrix of 8x8 where each element is an integer in the range\\n0..16. This reduces dimensionality and gives invariance to small\\ndistortions.\\n\\nFor info on NIST preprocessing routines, see M. D. Garris, J. L. Blue, G.\\nT. Candela, D. L. Dimmick, J. Geist, P. J. Grother, S. A. Janet, and C.\\nL. Wilson, NIST Form-Based Handprint Recognition System, NISTIR 5469,\\n1994.\\n\\n.. topic:: References\\n\\n  - C. Kaynak (1995) Methods of Combining Multiple Classifiers and Their\\n    Applications to Handwritten Digit Recognition, MSc Thesis, Institute of\\n    Graduate Studies in Science and Engineering, Bogazici University.\\n  - E. Alpaydin, C. Kaynak (1998) Cascading Classifiers, Kybernetika.\\n  - Ken Tang and Ponnuthurai N. Suganthan and Xi Yao and A. Kai Qin.\\n    Linear dimensionalityreduction using relevance weighted LDA. School of\\n    Electrical and Electronic Engineering Nanyang Technological University.\\n    2005.\\n  - Claudio Gentile. A New Approximate Maximal Margin Classification\\n    Algorithm. NIPS. 2000.\\n\""
      ]
     },
     "execution_count": 2,
     "metadata": {},
     "output_type": "execute_result"
    }
   ],
   "source": [
    "digits = datasets.load_digits()\n",
    "\n",
    "# This describe the processed dataset as below\n",
    "digits.DESCR"
   ]
  },
  {
   "cell_type": "code",
   "execution_count": 3,
   "id": "cbfab09d",
   "metadata": {},
   "outputs": [],
   "source": [
    "x = digits.data\n",
    "y = digits.target\n"
   ]
  },
  {
   "cell_type": "code",
   "execution_count": 4,
   "id": "52f6ee1c",
   "metadata": {},
   "outputs": [
    {
     "data": {
      "text/html": [
       "<div>\n",
       "<style scoped>\n",
       "    .dataframe tbody tr th:only-of-type {\n",
       "        vertical-align: middle;\n",
       "    }\n",
       "\n",
       "    .dataframe tbody tr th {\n",
       "        vertical-align: top;\n",
       "    }\n",
       "\n",
       "    .dataframe thead th {\n",
       "        text-align: right;\n",
       "    }\n",
       "</style>\n",
       "<table border=\"1\" class=\"dataframe\">\n",
       "  <thead>\n",
       "    <tr style=\"text-align: right;\">\n",
       "      <th></th>\n",
       "      <th>Target</th>\n",
       "    </tr>\n",
       "  </thead>\n",
       "  <tbody>\n",
       "    <tr>\n",
       "      <th>0</th>\n",
       "      <td>0</td>\n",
       "    </tr>\n",
       "    <tr>\n",
       "      <th>1</th>\n",
       "      <td>1</td>\n",
       "    </tr>\n",
       "    <tr>\n",
       "      <th>2</th>\n",
       "      <td>2</td>\n",
       "    </tr>\n",
       "    <tr>\n",
       "      <th>3</th>\n",
       "      <td>3</td>\n",
       "    </tr>\n",
       "    <tr>\n",
       "      <th>4</th>\n",
       "      <td>4</td>\n",
       "    </tr>\n",
       "    <tr>\n",
       "      <th>...</th>\n",
       "      <td>...</td>\n",
       "    </tr>\n",
       "    <tr>\n",
       "      <th>1792</th>\n",
       "      <td>9</td>\n",
       "    </tr>\n",
       "    <tr>\n",
       "      <th>1793</th>\n",
       "      <td>0</td>\n",
       "    </tr>\n",
       "    <tr>\n",
       "      <th>1794</th>\n",
       "      <td>8</td>\n",
       "    </tr>\n",
       "    <tr>\n",
       "      <th>1795</th>\n",
       "      <td>9</td>\n",
       "    </tr>\n",
       "    <tr>\n",
       "      <th>1796</th>\n",
       "      <td>8</td>\n",
       "    </tr>\n",
       "  </tbody>\n",
       "</table>\n",
       "<p>1797 rows × 1 columns</p>\n",
       "</div>"
      ],
      "text/plain": [
       "      Target\n",
       "0          0\n",
       "1          1\n",
       "2          2\n",
       "3          3\n",
       "4          4\n",
       "...      ...\n",
       "1792       9\n",
       "1793       0\n",
       "1794       8\n",
       "1795       9\n",
       "1796       8\n",
       "\n",
       "[1797 rows x 1 columns]"
      ]
     },
     "execution_count": 4,
     "metadata": {},
     "output_type": "execute_result"
    }
   ],
   "source": [
    "# Creating a DataFrame using the target data\n",
    "df = pd.DataFrame(data = y,columns=['Target'])\n",
    "df"
   ]
  },
  {
   "attachments": {},
   "cell_type": "markdown",
   "id": "982c5665",
   "metadata": {},
   "source": [
    "# Visualizing the Data"
   ]
  },
  {
   "cell_type": "code",
   "execution_count": 5,
   "id": "0ae07f9f",
   "metadata": {},
   "outputs": [
    {
     "data": {
      "text/plain": [
       "(1797, 8, 8)"
      ]
     },
     "execution_count": 5,
     "metadata": {},
     "output_type": "execute_result"
    }
   ],
   "source": [
    "digits.images.shape"
   ]
  },
  {
   "cell_type": "code",
   "execution_count": 6,
   "id": "85413fd6",
   "metadata": {},
   "outputs": [
    {
     "data": {
      "text/plain": [
       "array([[ 0.,  0.,  5., 13.,  9.,  1.,  0.,  0.],\n",
       "       [ 0.,  0., 13., 15., 10., 15.,  5.,  0.],\n",
       "       [ 0.,  3., 15.,  2.,  0., 11.,  8.,  0.],\n",
       "       [ 0.,  4., 12.,  0.,  0.,  8.,  8.,  0.],\n",
       "       [ 0.,  5.,  8.,  0.,  0.,  9.,  8.,  0.],\n",
       "       [ 0.,  4., 11.,  0.,  1., 12.,  7.,  0.],\n",
       "       [ 0.,  2., 14.,  5., 10., 12.,  0.,  0.],\n",
       "       [ 0.,  0.,  6., 13., 10.,  0.,  0.,  0.]])"
      ]
     },
     "execution_count": 6,
     "metadata": {},
     "output_type": "execute_result"
    }
   ],
   "source": [
    "digits.images[0]"
   ]
  },
  {
   "attachments": {},
   "cell_type": "markdown",
   "id": "1fdb73d7",
   "metadata": {},
   "source": [
    "Visualizing the above matrix"
   ]
  },
  {
   "cell_type": "code",
   "execution_count": 7,
   "id": "88edde10",
   "metadata": {},
   "outputs": [
    {
     "data": {
      "text/plain": [
       "Text(0.5, 1.0, 'Number: 0')"
      ]
     },
     "execution_count": 7,
     "metadata": {},
     "output_type": "execute_result"
    },
    {
     "data": {
      "image/png": "[encoded data removed]",
      "text/plain": [
       "<Figure size 432x288 with 1 Axes>"
      ]
     },
     "metadata": {
      "needs_background": "light"
     },
     "output_type": "display_data"
    }
   ],
   "source": [
    "plt.imshow(digits.images[0],cmap='gray_r')\n",
    "plt.axis('off')\n",
    "plt.title('Number: ' + str(y[0]))\n"
   ]
  },
  {
   "cell_type": "code",
   "execution_count": 9,
   "id": "d4fdacf7",
   "metadata": {},
   "outputs": [
    {
     "data": {
      "image/png": "[encoded data removed]",
      "text/plain": [
       "<Figure size 1080x432 with 30 Axes>"
      ]
     },
     "metadata": {
      "needs_background": "light"
     },
     "output_type": "display_data"
    }
   ],
   "source": [
    "figure,axes = plt.subplots(3,10,figsize=(15,6))\n",
    "for ax,image,number in zip(axes.ravel(),digits.images,y):\n",
    "    ax.axis('off')\n",
    "    ax.imshow(image,cmap='gray_r')\n",
    "    plt.title('Number: ' + str(number))"
   ]
  },
  {
   "attachments": {},
   "cell_type": "markdown",
   "id": "8466d24d",
   "metadata": {},
   "source": [
    " Flattening the numpy Array"
   ]
  },
  {
   "cell_type": "code",
   "execution_count": 15,
   "id": "7b713c5e",
   "metadata": {},
   "outputs": [
    {
     "name": "stdout",
     "output_type": "stream",
     "text": [
      "Original image data\n",
      "[[ 0.  0.  5. 13.  9.  1.  0.  0.]\n",
      " [ 0.  0. 13. 15. 10. 15.  5.  0.]\n",
      " [ 0.  3. 15.  2.  0. 11.  8.  0.]\n",
      " [ 0.  4. 12.  0.  0.  8.  8.  0.]\n",
      " [ 0.  5.  8.  0.  0.  9.  8.  0.]\n",
      " [ 0.  4. 11.  0.  1. 12.  7.  0.]\n",
      " [ 0.  2. 14.  5. 10. 12.  0.  0.]\n",
      " [ 0.  0.  6. 13. 10.  0.  0.  0.]]\n",
      "\n",
      "Flattened image\n",
      "[ 0.  0.  5. 13.  9.  1.  0.  0.  0.  0. 13. 15. 10. 15.  5.  0.  0.  3.\n",
      " 15.  2.  0. 11.  8.  0.  0.  4. 12.  0.  0.  8.  8.  0.  0.  5.  8.  0.\n",
      "  0.  9.  8.  0.  0.  4. 11.  0.  1. 12.  7.  0.  0.  2. 14.  5. 10. 12.\n",
      "  0.  0.  0.  0.  6. 13. 10.  0.  0.  0.]\n",
      "\n",
      "Feature data for sample\n",
      "[ 0.  0.  5. 13.  9.  1.  0.  0.  0.  0. 13. 15. 10. 15.  5.  0.  0.  3.\n",
      " 15.  2.  0. 11.  8.  0.  0.  4. 12.  0.  0.  8.  8.  0.  0.  5.  8.  0.\n",
      "  0.  9.  8.  0.  0.  4. 11.  0.  1. 12.  7.  0.  0.  2. 14.  5. 10. 12.\n",
      "  0.  0.  0.  0.  6. 13. 10.  0.  0.  0.]\n",
      "\n",
      " Feature data for all sample\n",
      "[[ 0.  0.  5. ...  0.  0.  0.]\n",
      " [ 0.  0.  0. ... 10.  0.  0.]\n",
      " [ 0.  0.  0. ... 16.  9.  0.]\n",
      " ...\n",
      " [ 0.  0.  1. ...  6.  0.  0.]\n",
      " [ 0.  0.  2. ... 12.  0.  0.]\n",
      " [ 0.  0. 10. ... 12.  1.  0.]]\n"
     ]
    }
   ],
   "source": [
    "image = digits.images[0]\n",
    "print(\"Original image data\")\n",
    "print(image)\n",
    "\n",
    "image_flatten = image.ravel()\n",
    "print('\\nFlattened image')\n",
    "print(image_flatten)\n",
    "\n",
    "print('\\nFeature data for sample')\n",
    "print(x[0])\n",
    "\n",
    "print('\\n Feature data for all sample')\n",
    "print(x)\n"
   ]
  },
  {
   "attachments": {},
   "cell_type": "markdown",
   "id": "90450e30",
   "metadata": {},
   "source": [
    "Splitting the dataset into training and testing sets"
   ]
  },
  {
   "cell_type": "code",
   "execution_count": 23,
   "id": "c997fa7b",
   "metadata": {},
   "outputs": [],
   "source": [
    "from sklearn.model_selection import train_test_split\n",
    "\n",
    "x_train,x_test,y_train,y_test = train_test_split(x,y, test_size=0.35,stratify=y)\n",
    "#stratify parameter makes the split so that the proportion of the value produced is same as the given proportion y"
   ]
  },
  {
   "attachments": {},
   "cell_type": "markdown",
   "id": "8ef567b4",
   "metadata": {},
   "source": [
    "Fitting the model"
   ]
  },
  {
   "cell_type": "code",
   "execution_count": 24,
   "id": "7d8fff71",
   "metadata": {},
   "outputs": [
    {
     "data": {
      "text/html": [
       "<style>#sk-container-id-2 {color: black;background-color: white;}#sk-container-id-2 pre{padding: 0;}#sk-container-id-2 div.sk-toggleable {background-color: white;}#sk-container-id-2 label.sk-toggleable__label {cursor: pointer;display: block;width: 100%;margin-bottom: 0;padding: 0.3em;box-sizing: border-box;text-align: center;}#sk-container-id-2 label.sk-toggleable__label-arrow:before {content: \"▸\";float: left;margin-right: 0.25em;color: #696969;}#sk-container-id-2 label.sk-toggleable__label-arrow:hover:before {color: black;}#sk-container-id-2 div.sk-estimator:hover label.sk-toggleable__label-arrow:before {color: black;}#sk-container-id-2 div.sk-toggleable__content {max-height: 0;max-width: 0;overflow: hidden;text-align: left;background-color: #f0f8ff;}#sk-container-id-2 div.sk-toggleable__content pre {margin: 0.2em;color: black;border-radius: 0.25em;background-color: #f0f8ff;}#sk-container-id-2 input.sk-toggleable__control:checked~div.sk-toggleable__content {max-height: 200px;max-width: 100%;overflow: auto;}#sk-container-id-2 input.sk-toggleable__control:checked~label.sk-toggleable__label-arrow:before {content: \"▾\";}#sk-container-id-2 div.sk-estimator input.sk-toggleable__control:checked~label.sk-toggleable__label {background-color: #d4ebff;}#sk-container-id-2 div.sk-label input.sk-toggleable__control:checked~label.sk-toggleable__label {background-color: #d4ebff;}#sk-container-id-2 input.sk-hidden--visually {border: 0;clip: rect(1px 1px 1px 1px);clip: rect(1px, 1px, 1px, 1px);height: 1px;margin: -1px;overflow: hidden;padding: 0;position: absolute;width: 1px;}#sk-container-id-2 div.sk-estimator {font-family: monospace;background-color: #f0f8ff;border: 1px dotted black;border-radius: 0.25em;box-sizing: border-box;margin-bottom: 0.5em;}#sk-container-id-2 div.sk-estimator:hover {background-color: #d4ebff;}#sk-container-id-2 div.sk-parallel-item::after {content: \"\";width: 100%;border-bottom: 1px solid gray;flex-grow: 1;}#sk-container-id-2 div.sk-label:hover label.sk-toggleable__label {background-color: #d4ebff;}#sk-container-id-2 div.sk-serial::before {content: \"\";position: absolute;border-left: 1px solid gray;box-sizing: border-box;top: 0;bottom: 0;left: 50%;z-index: 0;}#sk-container-id-2 div.sk-serial {display: flex;flex-direction: column;align-items: center;background-color: white;padding-right: 0.2em;padding-left: 0.2em;position: relative;}#sk-container-id-2 div.sk-item {position: relative;z-index: 1;}#sk-container-id-2 div.sk-parallel {display: flex;align-items: stretch;justify-content: center;background-color: white;position: relative;}#sk-container-id-2 div.sk-item::before, #sk-container-id-2 div.sk-parallel-item::before {content: \"\";position: absolute;border-left: 1px solid gray;box-sizing: border-box;top: 0;bottom: 0;left: 50%;z-index: -1;}#sk-container-id-2 div.sk-parallel-item {display: flex;flex-direction: column;z-index: 1;position: relative;background-color: white;}#sk-container-id-2 div.sk-parallel-item:first-child::after {align-self: flex-end;width: 50%;}#sk-container-id-2 div.sk-parallel-item:last-child::after {align-self: flex-start;width: 50%;}#sk-container-id-2 div.sk-parallel-item:only-child::after {width: 0;}#sk-container-id-2 div.sk-dashed-wrapped {border: 1px dashed gray;margin: 0 0.4em 0.5em 0.4em;box-sizing: border-box;padding-bottom: 0.4em;background-color: white;}#sk-container-id-2 div.sk-label label {font-family: monospace;font-weight: bold;display: inline-block;line-height: 1.2em;}#sk-container-id-2 div.sk-label-container {text-align: center;}#sk-container-id-2 div.sk-container {/* jupyter's `normalize.less` sets `[hidden] { display: none; }` but bootstrap.min.css set `[hidden] { display: none !important; }` so we also need the `!important` here to be able to override the default hidden behavior on the sphinx rendered scikit-learn.org. See: https://github.com/scikit-learn/scikit-learn/issues/21755 */display: inline-block !important;position: relative;}#sk-container-id-2 div.sk-text-repr-fallback {display: none;}</style><div id=\"sk-container-id-2\" class=\"sk-top-container\"><div class=\"sk-text-repr-fallback\"><pre>KNeighborsClassifier(n_neighbors=3)</pre><b>In a Jupyter environment, please rerun this cell to show the HTML representation or trust the notebook. <br />On GitHub, the HTML representation is unable to render, please try loading this page with nbviewer.org.</b></div><div class=\"sk-container\" hidden><div class=\"sk-item\"><div class=\"sk-estimator sk-toggleable\"><input class=\"sk-toggleable__control sk-hidden--visually\" id=\"sk-estimator-id-2\" type=\"checkbox\" checked><label for=\"sk-estimator-id-2\" class=\"sk-toggleable__label sk-toggleable__label-arrow\">KNeighborsClassifier</label><div class=\"sk-toggleable__content\"><pre>KNeighborsClassifier(n_neighbors=3)</pre></div></div></div></div></div>"
      ],
      "text/plain": [
       "KNeighborsClassifier(n_neighbors=3)"
      ]
     },
     "execution_count": 24,
     "metadata": {},
     "output_type": "execute_result"
    }
   ],
   "source": [
    "from sklearn.neighbors import KNeighborsClassifier\n",
    "knn = KNeighborsClassifier(n_neighbors=3)\n",
    "knn.fit(x_train,y_train)"
   ]
  },
  {
   "attachments": {},
   "cell_type": "markdown",
   "id": "9523b541",
   "metadata": {},
   "source": [
    "Making predictions using the trained model"
   ]
  },
  {
   "cell_type": "code",
   "execution_count": 25,
   "id": "2fe7780f",
   "metadata": {},
   "outputs": [
    {
     "data": {
      "text/plain": [
       "array([5, 0, 5, 1, 5, 8, 6, 2, 5, 3, 0, 9, 2, 4, 6, 1, 9, 6, 6, 7, 7, 4,\n",
       "       4, 3, 5, 2, 3, 6, 3, 2, 9, 1, 1, 7, 9, 4, 3, 0, 2, 9, 1, 0, 3, 3,\n",
       "       6, 5, 5, 7, 9, 4, 1, 5, 0, 0, 1, 6, 0, 4, 4, 3, 1, 3, 9, 4, 8, 5,\n",
       "       5, 8, 4, 2, 3, 3, 3, 8, 4, 5, 1, 1, 4, 9, 1, 0, 2, 7, 4, 2, 0, 2,\n",
       "       5, 7, 6, 1, 2, 5, 3, 4, 4, 7, 8, 5, 5, 3, 4, 6, 4, 7, 5, 8, 3, 0,\n",
       "       6, 4, 3, 0, 0, 5, 5, 8, 6, 7, 8, 0, 0, 9, 8, 7, 9, 2, 8, 4, 8, 2,\n",
       "       1, 0, 3, 4, 0, 8, 9, 2, 5, 1, 4, 1, 8, 0, 6, 4, 9, 5, 0, 7, 4, 6,\n",
       "       3, 3, 9, 9, 9, 4, 8, 3, 7, 3, 4, 6, 0, 1, 0, 8, 6, 4, 1, 5, 3, 9,\n",
       "       6, 0, 5, 3, 0, 3, 0, 7, 6, 8, 7, 6, 2, 9, 5, 1, 9, 7, 1, 9, 5, 3,\n",
       "       4, 1, 7, 9, 1, 2, 6, 4, 7, 8, 1, 4, 2, 1, 9, 4, 2, 7, 5, 6, 2, 8,\n",
       "       4, 5, 3, 2, 4, 9, 4, 7, 8, 1, 5, 2, 2, 3, 8, 1, 7, 5, 8, 6, 1, 2,\n",
       "       1, 6, 0, 7, 7, 7, 1, 0, 1, 6, 2, 1, 1, 0, 9, 5, 9, 4, 5, 4, 8, 7,\n",
       "       6, 1, 5, 0, 5, 1, 7, 8, 3, 1, 0, 9, 1, 1, 8, 6, 3, 9, 0, 0, 3, 4,\n",
       "       2, 3, 2, 0, 7, 7, 9, 3, 7, 3, 1, 0, 9, 0, 4, 3, 0, 1, 5, 9, 7, 0,\n",
       "       2, 0, 8, 8, 9, 9, 4, 7, 9, 6, 1, 5, 4, 6, 5, 4, 5, 5, 4, 9, 6, 4,\n",
       "       3, 7, 3, 4, 5, 9, 5, 3, 6, 8, 1, 1, 9, 7, 7, 5, 6, 7, 2, 2, 1, 0,\n",
       "       7, 6, 6, 4, 4, 3, 9, 2, 3, 3, 2, 7, 2, 6, 0, 5, 5, 3, 6, 2, 9, 9,\n",
       "       1, 4, 2, 9, 6, 8, 7, 4, 4, 5, 9, 3, 8, 5, 4, 3, 5, 7, 8, 4, 4, 0,\n",
       "       8, 1, 9, 2, 9, 0, 0, 6, 7, 3, 8, 8, 2, 6, 6, 0, 9, 7, 5, 8, 9, 1,\n",
       "       6, 0, 1, 2, 3, 2, 8, 3, 4, 0, 5, 5, 0, 7, 8, 3, 9, 8, 6, 1, 8, 5,\n",
       "       0, 3, 8, 8, 4, 5, 6, 3, 8, 2, 6, 3, 3, 9, 6, 8, 0, 6, 9, 2, 1, 9,\n",
       "       5, 1, 5, 0, 2, 2, 7, 8, 9, 6, 0, 6, 0, 2, 0, 8, 5, 8, 9, 7, 4, 1,\n",
       "       3, 5, 4, 3, 0, 9, 0, 4, 1, 5, 1, 8, 9, 6, 8, 6, 9, 7, 1, 6, 9, 9,\n",
       "       6, 5, 6, 7, 7, 6, 2, 2, 6, 5, 8, 3, 7, 5, 3, 2, 4, 7, 8, 7, 3, 1,\n",
       "       6, 1, 2, 2, 2, 6, 7, 7, 1, 1, 1, 9, 7, 0, 3, 7, 4, 9, 9, 4, 2, 2,\n",
       "       8, 4, 8, 0, 2, 1, 3, 0, 5, 8, 9, 5, 6, 0, 6, 1, 2, 2, 7, 6, 1, 7,\n",
       "       5, 2, 0, 6, 7, 9, 2, 8, 3, 7, 4, 2, 1, 5, 1, 8, 5, 1, 7, 5, 5, 8,\n",
       "       2, 2, 6, 4, 8, 2, 0, 1, 0, 2, 7, 8, 3, 3, 3, 8, 0, 7, 2, 7, 7, 2,\n",
       "       1, 0, 6, 9, 3, 8, 6, 1, 7, 7, 7, 6, 4])"
      ]
     },
     "execution_count": 25,
     "metadata": {},
     "output_type": "execute_result"
    }
   ],
   "source": [
    "y_predict = knn.predict(x_test)\n",
    "\n",
    "y_predict"
   ]
  },
  {
   "attachments": {},
   "cell_type": "markdown",
   "id": "5f3ded45",
   "metadata": {},
   "source": [
    "Evaluating the results by calculating the classification report (performance measure)"
   ]
  },
  {
   "cell_type": "code",
   "execution_count": 26,
   "id": "7d33e429",
   "metadata": {},
   "outputs": [
    {
     "name": "stdout",
     "output_type": "stream",
     "text": [
      "              precision    recall  f1-score   support\n",
      "\n",
      "           0       1.00      1.00      1.00        62\n",
      "           1       0.96      1.00      0.98        64\n",
      "           2       1.00      1.00      1.00        62\n",
      "           3       0.97      0.95      0.96        64\n",
      "           4       1.00      0.98      0.99        63\n",
      "           5       0.98      1.00      0.99        64\n",
      "           6       1.00      1.00      1.00        63\n",
      "           7       0.95      0.98      0.97        63\n",
      "           8       0.98      0.95      0.97        61\n",
      "           9       0.98      0.95      0.97        63\n",
      "\n",
      "    accuracy                           0.98       629\n",
      "   macro avg       0.98      0.98      0.98       629\n",
      "weighted avg       0.98      0.98      0.98       629\n",
      "\n"
     ]
    }
   ],
   "source": [
    "from sklearn.metrics import classification_report\n",
    "\n",
    "report = classification_report(y_test,y_predict)\n",
    "print(report)\n"
   ]
  },
  {
   "attachments": {},
   "cell_type": "markdown",
   "id": "aa15e80d",
   "metadata": {},
   "source": [
    "Evaluating using confusion matrix"
   ]
  },
  {
   "cell_type": "code",
   "execution_count": 34,
   "id": "e370e130",
   "metadata": {},
   "outputs": [
    {
     "name": "stdout",
     "output_type": "stream",
     "text": [
      "[[62  0  0  0  0  0  0  0  0  0]\n",
      " [ 0 64  0  0  0  0  0  0  0  0]\n",
      " [ 0  0 62  0  0  0  0  0  0  0]\n",
      " [ 0  0  0 61  0  1  0  2  0  0]\n",
      " [ 0  0  0  0 62  0  0  1  0  0]\n",
      " [ 0  0  0  0  0 64  0  0  0  0]\n",
      " [ 0  0  0  0  0  0 63  0  0  0]\n",
      " [ 0  0  0  0  0  0  0 62  0  1]\n",
      " [ 0  2  0  1  0  0  0  0 58  0]\n",
      " [ 0  1  0  1  0  0  0  0  1 60]]\n"
     ]
    }
   ],
   "source": [
    "from sklearn import metrics\n",
    "\n",
    "CM = metrics.confusion_matrix(y_test,y_predict)\n",
    "print(CM)"
   ]
  },
  {
   "cell_type": "code",
   "execution_count": 33,
   "metadata": {},
   "outputs": [
    {
     "data": {
      "text/plain": [
       "Text(0.5, 1.0, 'Heatmap for Confusion matrix in minst dataset')"
      ]
     },
     "execution_count": 33,
     "metadata": {},
     "output_type": "execute_result"
    },
    {
     "data": {
      "image/png": "[encoded data removed]",
      "text/plain": [
       "<Figure size 432x288 with 2 Axes>"
      ]
     },
     "metadata": {
      "needs_background": "light"
     },
     "output_type": "display_data"
    }
   ],
   "source": [
    "import seaborn as sns\n",
    "s = sns.heatmap(CM, annot=True, cmap='nipy_spectral_r')\n",
    "s.set_title('Heatmap for Confusion matrix in minst dataset')"
   ]
  },
  {
   "cell_type": "code",
   "execution_count": 35,
   "id": "2253b7af",
   "metadata": {},
   "outputs": [
    {
     "data": {
      "text/plain": [
       "0.982457959276607"
      ]
     },
     "execution_count": 35,
     "metadata": {},
     "output_type": "execute_result"
    }
   ],
   "source": [
    "# Calculating the accuracy\n",
    "acc = metrics.balanced_accuracy_score(y_test,y_predict)\n",
    "acc"
   ]
  }
 ],
 "metadata": {
  "kernelspec": {
   "display_name": "Python 3 (ipykernel)",
   "language": "python",
   "name": "python3"
  },
  "language_info": {
   "codemirror_mode": {
    "name": "ipython",
    "version": 3
   },
   "file_extension": ".py",
   "mimetype": "text/x-python",
   "name": "python",
   "nbconvert_exporter": "python",
   "pygments_lexer": "ipython3",
   "version": "3.9.7"
  }
 },
 "nbformat": 4,
 "nbformat_minor": 5
}
